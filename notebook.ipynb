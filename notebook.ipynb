{
 "cells": [
  {
   "cell_type": "code",
   "execution_count": 13,
   "metadata": {},
   "outputs": [
    {
     "name": "stdout",
     "output_type": "stream",
     "text": [
      "죄도시(Criminal City, 2017)에 대한 정보입니다.:\n",
      "        감독: 강윤성\n",
      "        주요 출연진: 마동석 - 마상현, 김성균 - 조현민, 조재윤 - 박성배, 윤계상 - 김형석\n",
      "        예산: 약 500만 달러\n",
      "        수익: 약 1억 2천만 달러\n",
      "        장르: 범죄, 액션, 드라마\n",
      "        시놉시스: 범죄 조직을 쫓는 형사들과 범죄 조직 간의 전쟁을 그린 영화. 마상현 형사는 조직의 수장을 잡기 위해 무모한 작전에 돌입하게 되고, 조직 내부의 배신과 복수가 뒤얽히면서 예상치 못한 사건들이 벌어진다.\n",
      "        개봉일: 2017년 10월 3일 (한국 개봉)\n",
      "        한국 평점: 네이버 영화 기준 7.6/10 (관객 평점)\n",
      "        외국 평점: IMDb: 6.9/10, Rotten Tomatoes: 75% (Tomatometer), 68% (Audience Score), Metacritic: N/A"
     ]
    },
    {
     "data": {
      "text/plain": [
       "AIMessageChunk(content='죄도시(Criminal City, 2017)에 대한 정보입니다.:\\n        감독: 강윤성\\n        주요 출연진: 마동석 - 마상현, 김성균 - 조현민, 조재윤 - 박성배, 윤계상 - 김형석\\n        예산: 약 500만 달러\\n        수익: 약 1억 2천만 달러\\n        장르: 범죄, 액션, 드라마\\n        시놉시스: 범죄 조직을 쫓는 형사들과 범죄 조직 간의 전쟁을 그린 영화. 마상현 형사는 조직의 수장을 잡기 위해 무모한 작전에 돌입하게 되고, 조직 내부의 배신과 복수가 뒤얽히면서 예상치 못한 사건들이 벌어진다.\\n        개봉일: 2017년 10월 3일 (한국 개봉)\\n        한국 평점: 네이버 영화 기준 7.6/10 (관객 평점)\\n        외국 평점: IMDb: 6.9/10, Rotten Tomatoes: 75% (Tomatometer), 68% (Audience Score), Metacritic: N/A')"
      ]
     },
     "execution_count": 13,
     "metadata": {},
     "output_type": "execute_result"
    }
   ],
   "source": [
    "from langchain.chat_models import ChatOpenAI\n",
    "from langchain.callbacks import StreamingStdOutCallbackHandler\n",
    "from langchain.globals import set_llm_cache\n",
    "from langchain.cache import SQLiteCache\n",
    "from langchain.prompts import PromptTemplate\n",
    "from langchain.prompts.few_shot import FewShotPromptTemplate\n",
    "\n",
    "set_llm_cache(SQLiteCache(\"cache.db\"))\n",
    "\n",
    "chat = ChatOpenAI(\n",
    "    model=\"gpt-3.5-turbo\",\n",
    "    temperature=0.1,\n",
    "    streaming=True,\n",
    "    callbacks=[StreamingStdOutCallbackHandler()],\n",
    ")\n",
    "\n",
    "examples = [\n",
    "    {\n",
    "        \"question\": \"영화 미나리에 대한 정보를 알려줘\",\n",
    "        \"answer\": \"\"\"\n",
    "        미나리 (Minari, 2020)에 대한 정보입니다.:\n",
    "        감독: 정이삭 (Lee Isaac Chung)\n",
    "        주요 출연진: 스티븐 연 (Steven Yeun) - 제이콥, 한예리 (Yeri Han) - 모니카, 윤여정 (Youn Yuh-jung) - 순자, 앨런 김 (Alan S. Kim) - 데이비드\n",
    "        예산: 약 200만 달러\n",
    "        수익: 약 1500만 달러\n",
    "        장르: 드라마\n",
    "        시놉시스: 1980년대 미국 아칸소로 이주한 한국계 이민자 가족의 이야기를 그린 영화. 아버지 제이콥은 미국에서의 새로운 시작을 꿈꾸며 가족을 데리고 농장을 시작하지만, 현실은 녹록지 않다. 가족은 서로를 지탱하며 새로운 삶에 적응해 나간다.\n",
    "        개봉일: 2020년 1월 26일 (선댄스 영화제), 2021년 3월 3일 (한국 개봉)\n",
    "        한국 평점: 네이버 영화 기준 9.0/10 (관객 평점)\n",
    "        외국 평점: IMDb: 7.4/10, Rotten Tomatoes: 98% (Tomatometer), 87% (Audience Score), Metacritic: 89/100\n",
    "        \"\"\",\n",
    "    },\n",
    "    {\n",
    "       \"question\": \"영화 기생충에 대한 정보를 알려줘\",\n",
    "        \"answer\": \"\"\"\n",
    "        기생충(Parasite, 2019)에 대한 정보입니다.:\n",
    "        감독: 봉준호 (Bong Joon-ho)\n",
    "        주요 출연진: 송강호 (Song Kang-ho) - 기택, 이선균 (Lee Sun-kyun) - 동익, 조여정 (Cho Yeo-jeong) - 연교, 최우식 (Choi Woo-shik) - 기우, 박소담 (Park So-dam) - 기정\n",
    "        예산: 약 940만 달러\n",
    "        수익: 약 2억 6천만 달러\n",
    "        장르: 스릴러, 드라마, 블랙 코미디\n",
    "        시놉시스: 반지하에 사는 기택 가족은 모두가 백수로, 생활고에 시달린다. 어느 날 기우는 부유한 박 사장의 집에서 과외 선생님으로 일하게 되면서 두 가족의 운명이 얽히게 된다. 이로 인해 벌어지는 일련의 사건들이 미스터리하고 충격적인 결말을 향해 달려간다.\n",
    "        개봉일: 2019년 5월 21일 (칸 영화제), 2019년 5월 30일 (한국 개봉)\n",
    "        한국 평점: 네이버 영화 기준 9.0/10 (관객 평점)\n",
    "        외국 평점: IMDb: 8.5/10, Rotten Tomatoes: 99% (Tomatometer), 90% (Audience Score), Metacritic: 96/100\n",
    "        \"\"\",\n",
    "    },\n",
    "    {\n",
    "        \"question\": \"영화 컨택트(Arrival)에 대한 정보를 알려줘\",\n",
    "        \"answer\": \"\"\"\n",
    "        컨택트(Arrival)에 대한 정보입니다.:\n",
    "        감독: 드니 빌뇌브 (Denis Villeneuve)\n",
    "        주요 출연진: 에이미 아담스 (Amy Adams) - 루이스 뱅크스 박사, 제레미 레너 (Jeremy Renner) - 이안 도넬리, 포레스트 휘태커 (Forest Whitaker) - 웨버 대령\n",
    "        예산: 약 4700만 달러\n",
    "        수익: 약 2억 3천만 달러\n",
    "        장르: SF, 드라마, 미스터리\n",
    "        시놉시스: 지구 상공에 외계 비행선들이 나타나면서, 언어학자 루이스 뱅크스 박사는 외계인들과의 소통을 위해 고용된다. 그녀는 외계 언어를 해독하려는 시도를 통해 인간과 외계인 간의 소통, 시간의 본질, 인간의 존재 의미에 대해 탐구하게 된다.\n",
    "        개봉일: 2016년 9월 1일 (베니스 영화제), 2016년 11월 10일 (한국 개봉)\n",
    "        한국 평점: 네이버 영화 8.3/10 (관객 평점)\n",
    "        외국 평점: IMDb: 7.9/10, Rotten Tomatoes: 94% (Tomatometer), 82% (Audience Score), Metacritic: 81/100\n",
    "        \"\"\",\n",
    "    },\n",
    "]\n",
    "\n",
    "\n",
    "film_prompt = PromptTemplate.from_template(\"human: {question}n\\ai: {answer}\")\n",
    "\n",
    "prompt = FewShotPromptTemplate(\n",
    "    example_prompt=film_prompt,\n",
    "    examples=examples,\n",
    "    suffix=\"영화 {film}에 대한 정보를 알려줘\",\n",
    "    input_variables=[\"film\"],\n",
    ")\n",
    "\n",
    "chain = prompt | chat\n",
    "\n",
    "chain.invoke({\"film\": \"범죄도시\"})\n",
    "    "
   ]
  }
 ],
 "metadata": {
  "kernelspec": {
   "display_name": "env",
   "language": "python",
   "name": "python3"
  },
  "language_info": {
   "codemirror_mode": {
    "name": "ipython",
    "version": 3
   },
   "file_extension": ".py",
   "mimetype": "text/x-python",
   "name": "python",
   "nbconvert_exporter": "python",
   "pygments_lexer": "ipython3",
   "version": "3.11.6"
  }
 },
 "nbformat": 4,
 "nbformat_minor": 2
}
